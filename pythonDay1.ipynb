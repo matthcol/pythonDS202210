{
 "cells": [
  {
   "cell_type": "markdown",
   "id": "5b098aad-561a-4db7-b4ad-c58d7b03ebf4",
   "metadata": {},
   "source": [
    "# Python"
   ]
  },
  {
   "cell_type": "code",
   "execution_count": 18,
   "id": "677fa9d1-5ae6-47af-9acb-84f2185afe4a",
   "metadata": {},
   "outputs": [],
   "source": [
    "import numpy as np\n",
    "import pandas as pd\n",
    "from decimal import Decimal"
   ]
  },
  {
   "cell_type": "code",
   "execution_count": 2,
   "id": "f6c8bbf3-e181-4374-9832-4156b92c8072",
   "metadata": {},
   "outputs": [
    {
     "data": {
      "text/plain": [
       "array([[14.69071037, 14.90207985,  8.29036612, ..., 11.48700386,\n",
       "         8.33164039,  7.8969637 ],\n",
       "       [15.65388296, 15.02464453, 10.62842504, ..., 13.24377979,\n",
       "        10.72566701,  8.89400752],\n",
       "       [14.61406694, 10.97381834, 11.65587622, ...,  3.74591376,\n",
       "         9.75997291,  9.20582171],\n",
       "       ...,\n",
       "       [11.17397579,  3.97304654, 11.30562006, ...,  8.40112901,\n",
       "         5.38730178,  9.58505939],\n",
       "       [ 5.84463737,  4.08114869, 10.02710942, ..., 11.58817669,\n",
       "         1.76431535, 12.13647076],\n",
       "       [ 8.74817476,  3.47372789,  9.87709503, ...,  6.11509696,\n",
       "         9.52470281,  9.64955499]])"
      ]
     },
     "execution_count": 2,
     "metadata": {},
     "output_type": "execute_result"
    }
   ],
   "source": [
    "m = np.random.normal(10,3,(100,100))\n",
    "m"
   ]
  },
  {
   "cell_type": "code",
   "execution_count": 3,
   "id": "cd86ab63-2d8c-41a3-99e7-a5cd9dd5e319",
   "metadata": {},
   "outputs": [
    {
     "data": {
      "text/plain": [
       "(100, 100)"
      ]
     },
     "execution_count": 3,
     "metadata": {},
     "output_type": "execute_result"
    }
   ],
   "source": [
    "# attribute: tuple\n",
    "m.shape"
   ]
  },
  {
   "cell_type": "code",
   "execution_count": 4,
   "id": "bb1001ca-e6f2-48e4-b1e7-b23fa4cfe246",
   "metadata": {},
   "outputs": [
    {
     "data": {
      "text/plain": [
       "  C_CONTIGUOUS : True\n",
       "  F_CONTIGUOUS : False\n",
       "  OWNDATA : True\n",
       "  WRITEABLE : True\n",
       "  ALIGNED : True\n",
       "  WRITEBACKIFCOPY : False\n",
       "  UPDATEIFCOPY : False"
      ]
     },
     "execution_count": 4,
     "metadata": {},
     "output_type": "execute_result"
    }
   ],
   "source": [
    "m.flags"
   ]
  },
  {
   "cell_type": "code",
   "execution_count": 5,
   "id": "12857686-6c82-4c5a-a259-ad5b0fc9f83a",
   "metadata": {},
   "outputs": [],
   "source": [
    "# TypeError: 'numpy.flagsobj' object is not callable\n",
    "# m.flags()"
   ]
  },
  {
   "cell_type": "code",
   "execution_count": 6,
   "id": "0abac3da-65b8-4a31-802b-fc02b16f397b",
   "metadata": {},
   "outputs": [
    {
     "data": {
      "text/plain": [
       "<function ndarray.sum>"
      ]
     },
     "execution_count": 6,
     "metadata": {},
     "output_type": "execute_result"
    }
   ],
   "source": [
    "m.sum"
   ]
  },
  {
   "cell_type": "code",
   "execution_count": 7,
   "id": "16706f55-3e8b-42e8-8a2a-04f006d81efc",
   "metadata": {},
   "outputs": [
    {
     "data": {
      "text/plain": [
       "99893.85063753751"
      ]
     },
     "execution_count": 7,
     "metadata": {},
     "output_type": "execute_result"
    }
   ],
   "source": [
    "m.sum()"
   ]
  },
  {
   "cell_type": "code",
   "execution_count": 8,
   "id": "e628b90a-0095-427e-b4cf-4dca7f8a6474",
   "metadata": {},
   "outputs": [
    {
     "data": {
      "text/plain": [
       "array([[14.69071037, 14.90207985,  8.29036612, ..., 11.48700386,\n",
       "         8.33164039,  7.8969637 ],\n",
       "       [15.65388296, 15.02464453, 10.62842504, ..., 13.24377979,\n",
       "        10.72566701,  8.89400752],\n",
       "       [14.61406694, 10.97381834, 11.65587622, ...,  3.74591376,\n",
       "         9.75997291,  9.20582171],\n",
       "       ...,\n",
       "       [11.17397579,  3.97304654, 11.30562006, ...,  8.40112901,\n",
       "         5.38730178,  9.58505939],\n",
       "       [ 5.84463737,  4.08114869, 10.02710942, ..., 11.58817669,\n",
       "         1.76431535, 12.13647076],\n",
       "       [ 8.74817476,  3.47372789,  9.87709503, ...,  6.11509696,\n",
       "         9.52470281,  9.64955499]])"
      ]
     },
     "execution_count": 8,
     "metadata": {},
     "output_type": "execute_result"
    }
   ],
   "source": [
    "m"
   ]
  },
  {
   "cell_type": "code",
   "execution_count": 9,
   "id": "08a4f46c-2e4b-4bf7-875f-9d4a2573ff4c",
   "metadata": {},
   "outputs": [],
   "source": [
    "x = 123444444444444444444444444444444444444444444444444444444444444444444444444444444444444444444444444444444444444444444444444444444444447"
   ]
  },
  {
   "cell_type": "code",
   "execution_count": 10,
   "id": "8265845b-6439-4520-a575-3e94cdb0ce17",
   "metadata": {},
   "outputs": [
    {
     "data": {
      "text/plain": [
       "123444444444444444444444444444444444444444444444444444444444444444444444444444444444444444444444444444444444444444444444444444444444448"
      ]
     },
     "execution_count": 10,
     "metadata": {},
     "output_type": "execute_result"
    }
   ],
   "source": [
    "x + 1"
   ]
  },
  {
   "cell_type": "code",
   "execution_count": 11,
   "id": "4b5c794b-26bd-4b65-8ab1-f0a4b1acf2f7",
   "metadata": {},
   "outputs": [
    {
     "data": {
      "text/plain": [
       "int"
      ]
     },
     "execution_count": 11,
     "metadata": {},
     "output_type": "execute_result"
    }
   ],
   "source": [
    "type(x)"
   ]
  },
  {
   "cell_type": "markdown",
   "id": "e84105aa-69b6-4aaa-a8c2-5dcb3a27a254",
   "metadata": {},
   "source": [
    "### Types entiers de numpy vs type int de python\n",
    "- uint8: unsigned int sur 8 bits, i.e. 0 à 255\n",
    "- int8: signed int sur 8 bits; i.e. -128 à 127\n",
    "- int8, int16, int32, int64\n",
    "- uint8, uint16, uint32, uint64"
   ]
  },
  {
   "cell_type": "code",
   "execution_count": 14,
   "id": "96da84c7-27f0-4ef5-a1a7-c514f0514605",
   "metadata": {},
   "outputs": [
    {
     "data": {
      "text/plain": [
       "array([[1, 1, 1, 1, 1],\n",
       "       [1, 1, 1, 1, 1],\n",
       "       [1, 1, 1, 1, 1],\n",
       "       [1, 1, 1, 1, 1],\n",
       "       [1, 1, 1, 1, 1]], dtype=uint8)"
      ]
     },
     "execution_count": 14,
     "metadata": {},
     "output_type": "execute_result"
    }
   ],
   "source": [
    "m = np.ones((5,5), dtype=np.uint8)\n",
    "m"
   ]
  },
  {
   "cell_type": "code",
   "execution_count": 15,
   "id": "a8e6012f-d877-46a1-b094-3b79e9ba06be",
   "metadata": {},
   "outputs": [
    {
     "name": "stdout",
     "output_type": "stream",
     "text": [
      "[[1 1 1 1 1]\n",
      " [1 1 1 1 1]\n",
      " [1 1 1 1 1]\n",
      " [1 1 1 1 1]\n",
      " [1 1 1 1 1]]\n"
     ]
    }
   ],
   "source": [
    "print(m)"
   ]
  },
  {
   "cell_type": "markdown",
   "id": "7e23fb61-d450-4b82-b0f6-5cd41177e402",
   "metadata": {},
   "source": [
    "### Types flottants (IEEE754)\n",
    "- python: float, 32/64 en fonction de la machine\n",
    "- numpy: float32, float64"
   ]
  },
  {
   "cell_type": "code",
   "execution_count": 16,
   "id": "bacb49cc-68b8-4ae3-9369-5ee0aea1ef5c",
   "metadata": {},
   "outputs": [
    {
     "data": {
      "text/plain": [
       "(0.1, 0.2, 0.30000000000000004)"
      ]
     },
     "execution_count": 16,
     "metadata": {},
     "output_type": "execute_result"
    }
   ],
   "source": [
    "prix = 0.10\n",
    "prix, 2*prix, 3*prix"
   ]
  },
  {
   "cell_type": "code",
   "execution_count": 19,
   "id": "d5002a7f-1d32-43d3-adfc-e6b7f2a6dece",
   "metadata": {},
   "outputs": [
    {
     "data": {
      "text/plain": [
       "(Decimal('0.1'), Decimal('0.2'), Decimal('0.3'))"
      ]
     },
     "execution_count": 19,
     "metadata": {},
     "output_type": "execute_result"
    }
   ],
   "source": [
    "prix = Decimal('0.1')\n",
    "prix, 2*prix, 3*prix"
   ]
  },
  {
   "cell_type": "code",
   "execution_count": 21,
   "id": "e66f9102-813a-450e-878f-a5b1934e1a8e",
   "metadata": {},
   "outputs": [
    {
     "data": {
      "text/plain": [
       "(nan, inf, nan, inf)"
      ]
     },
     "execution_count": 21,
     "metadata": {},
     "output_type": "execute_result"
    }
   ],
   "source": [
    "np.nan, np.inf, float('nan'), float('inf')"
   ]
  },
  {
   "cell_type": "markdown",
   "id": "a9dcec25-7ed6-4046-989a-a7a10300b952",
   "metadata": {},
   "source": [
    "bigNumber = 1E308\n",
    "bigNumber, bigNumber*2"
   ]
  },
  {
   "cell_type": "markdown",
   "id": "79bfefe7-fb0e-443c-b61a-89b528541494",
   "metadata": {},
   "source": [
    "### Calculs"
   ]
  },
  {
   "cell_type": "code",
   "execution_count": 29,
   "id": "1a10d400-dff5-4d20-baf7-dbafdf2bb1d5",
   "metadata": {},
   "outputs": [
    {
     "name": "stdout",
     "output_type": "stream",
     "text": [
      "3.6666666666666665 3 2\n"
     ]
    }
   ],
   "source": [
    "r1, r2, r3 = 11 / 3, 11 // 3, 11 % 3\n",
    "print(r1, r2, r3)"
   ]
  },
  {
   "cell_type": "code",
   "execution_count": 27,
   "id": "37cef257-2882-4931-8eee-4eea9db6b1d6",
   "metadata": {},
   "outputs": [
    {
     "data": {
      "text/plain": [
       "1024"
      ]
     },
     "execution_count": 27,
     "metadata": {},
     "output_type": "execute_result"
    }
   ],
   "source": [
    "2**10"
   ]
  },
  {
   "cell_type": "markdown",
   "id": "30018513-1bb4-43d7-8f36-3b1c1e52c102",
   "metadata": {},
   "source": [
    "### Logique\n",
    "- True, False\n",
    "- comparaison: ==, !=, <, <=, >, >=\n",
    "- and, or, not"
   ]
  },
  {
   "cell_type": "code",
   "execution_count": 30,
   "id": "b01c7175-29aa-4f43-989b-98e08917c2d0",
   "metadata": {},
   "outputs": [
    {
     "data": {
      "text/plain": [
       "False"
      ]
     },
     "execution_count": 30,
     "metadata": {},
     "output_type": "execute_result"
    }
   ],
   "source": [
    "(r1 > 5) and (r3 == 2)"
   ]
  },
  {
   "cell_type": "code",
   "execution_count": 31,
   "id": "7bf29c3c-8a85-4741-a120-0ef6a44be3d4",
   "metadata": {},
   "outputs": [
    {
     "data": {
      "text/plain": [
       "False"
      ]
     },
     "execution_count": 31,
     "metadata": {},
     "output_type": "execute_result"
    }
   ],
   "source": [
    "'5' == 5"
   ]
  },
  {
   "cell_type": "code",
   "execution_count": 33,
   "id": "da798e9e-9be6-4067-b228-15bf140f6dad",
   "metadata": {},
   "outputs": [],
   "source": [
    "# TypeError: '<=' not supported between instances of 'str' and 'int'\n",
    "# '5' <= 5"
   ]
  },
  {
   "cell_type": "code",
   "execution_count": 34,
   "id": "140a41c5-b970-474e-9b61-2f9b0713cac2",
   "metadata": {},
   "outputs": [
    {
     "data": {
      "text/plain": [
       "(None, NoneType)"
      ]
     },
     "execution_count": 34,
     "metadata": {},
     "output_type": "execute_result"
    }
   ],
   "source": [
    "None, type(None)"
   ]
  },
  {
   "cell_type": "code",
   "execution_count": 35,
   "id": "10f3f063-58f6-4339-b41f-259879bd0ff8",
   "metadata": {},
   "outputs": [
    {
     "data": {
      "text/plain": [
       "(True, False)"
      ]
     },
     "execution_count": 35,
     "metadata": {},
     "output_type": "execute_result"
    }
   ],
   "source": [
    "x = None\n",
    "x is None, x is not None"
   ]
  },
  {
   "cell_type": "code",
   "execution_count": 39,
   "id": "9d8f5c1e-9e70-46fb-a776-714b22ea2310",
   "metadata": {},
   "outputs": [
    {
     "data": {
      "text/plain": [
       "(True, False)"
      ]
     },
     "execution_count": 39,
     "metadata": {},
     "output_type": "execute_result"
    }
   ],
   "source": [
    "3 in [45, 3, 77], 3 not in [45, 3, 77]"
   ]
  },
  {
   "cell_type": "code",
   "execution_count": 40,
   "id": "cd95265d-06bf-4444-afef-ed0d818ca66a",
   "metadata": {},
   "outputs": [
    {
     "data": {
      "text/plain": [
       "(True, False, True)"
      ]
     },
     "execution_count": 40,
     "metadata": {},
     "output_type": "execute_result"
    }
   ],
   "source": [
    "l1 = [3, 4, 5]\n",
    "l2 = [3, 4, 5]\n",
    "## == contenu, is mémoire\n",
    "l1 == l2, l1 is l2, l1 is not l2"
   ]
  },
  {
   "cell_type": "markdown",
   "id": "c812fd91-862f-45a3-8a21-a8cc309b2daf",
   "metadata": {},
   "source": [
    "### Textes"
   ]
  },
  {
   "cell_type": "code",
   "execution_count": 43,
   "id": "bcc58bf3-5dd3-4bbd-af6c-90491644cb53",
   "metadata": {},
   "outputs": [
    {
     "data": {
      "text/plain": [
       "('Tou\"lou\\'se', 'Tou\\'lou\"se', 'Toulouse', 'Toulouse')"
      ]
     },
     "execution_count": 43,
     "metadata": {},
     "output_type": "execute_result"
    }
   ],
   "source": [
    "data = 'Tou\"lou\\'se', \"Tou'lou\\\"se\", '''Toulouse''', \"\"\"Toulouse\"\"\"\n",
    "data"
   ]
  },
  {
   "cell_type": "code",
   "execution_count": 47,
   "id": "0d1622fe-3e8a-4b07-bd58-c26e214713cc",
   "metadata": {},
   "outputs": [
    {
     "name": "stdout",
     "output_type": "stream",
     "text": [
      "Tou\"lou'se\n",
      "Tou'lou\"se\n",
      "Toulouse\n",
      "Toulouse\n"
     ]
    }
   ],
   "source": [
    "for ville in data:\n",
    "    print(ville)"
   ]
  },
  {
   "cell_type": "code",
   "execution_count": 45,
   "id": "55d0a616-759b-4394-b402-d36ca63fcef2",
   "metadata": {},
   "outputs": [
    {
     "name": "stdout",
     "output_type": "stream",
     "text": [
      "SELECT\n",
      "    nom, pop\n",
      "FROM villes\n",
      "WHERE dep = 31\n"
     ]
    }
   ],
   "source": [
    "sql = \"\"\"SELECT\n",
    "    nom, pop\n",
    "FROM villes\n",
    "WHERE dep = 31\"\"\"\n",
    "print(sql)"
   ]
  },
  {
   "cell_type": "code",
   "execution_count": 48,
   "id": "bdad63ee-8a84-4180-b0ce-3c7c2d9fb895",
   "metadata": {},
   "outputs": [],
   "source": [
    "ville = \"Toulouse\""
   ]
  },
  {
   "cell_type": "code",
   "execution_count": 49,
   "id": "c9cd979c-5941-4c97-8bc6-884597b26d2a",
   "metadata": {},
   "outputs": [
    {
     "data": {
      "text/plain": [
       "'Toulouse, ville rose'"
      ]
     },
     "execution_count": 49,
     "metadata": {},
     "output_type": "execute_result"
    }
   ],
   "source": [
    "ville + \", ville rose\""
   ]
  },
  {
   "cell_type": "code",
   "execution_count": 51,
   "id": "0197b8d2-db1e-4988-a047-a8295693610e",
   "metadata": {},
   "outputs": [],
   "source": [
    "# TypeError: can only concatenate str (not \"int\") to str\n",
    "# ville + 5"
   ]
  },
  {
   "cell_type": "code",
   "execution_count": 55,
   "id": "84457c23-3f63-4fba-80eb-8bc5ad441842",
   "metadata": {},
   "outputs": [],
   "source": [
    "pop = 400000\n",
    "densite = 33.44559977"
   ]
  },
  {
   "cell_type": "code",
   "execution_count": 59,
   "id": "75df6d00-d9a9-4555-b7bf-083d1fabc6f1",
   "metadata": {},
   "outputs": [
    {
     "data": {
      "text/plain": [
       "'Toulouse a une population de 400000, avec une densité de 33.44559977'"
      ]
     },
     "execution_count": 59,
     "metadata": {},
     "output_type": "execute_result"
    }
   ],
   "source": [
    "# formatted string de python 3.6\n",
    "f\"{ville} a une population de {pop}, avec une densité de {densite}\""
   ]
  },
  {
   "cell_type": "code",
   "execution_count": 58,
   "id": "c2720560-813b-46da-8de9-5d84e9c594d4",
   "metadata": {},
   "outputs": [
    {
     "data": {
      "text/plain": [
       "'Toulouse a une population de 400000, avec une densité de 33.45'"
      ]
     },
     "execution_count": 58,
     "metadata": {},
     "output_type": "execute_result"
    }
   ],
   "source": [
    "f\"{ville} a une population de {pop}, avec une densité de {densite:0.2f}\""
   ]
  },
  {
   "cell_type": "code",
   "execution_count": 63,
   "id": "988ece4f-3906-4ae7-8896-d50ccc57aae3",
   "metadata": {},
   "outputs": [
    {
     "name": "stdout",
     "output_type": "stream",
     "text": [
      "Toulouse a une population de 400000, avec une densité de 33.45\n",
      "Toulouse a une population de 400000, avec une densité de 33.45\n"
     ]
    }
   ],
   "source": [
    "# python 3\n",
    "print(\"{} a une population de {}, avec une densité de {:0.2f}\".format(ville, pop, densite))\n",
    "print(\"{0} a une population de {1}, avec une densité de {2:0.2f}\".format(ville, pop, densite))"
   ]
  },
  {
   "cell_type": "code",
   "execution_count": 66,
   "id": "ce81f8a7-8da4-47ad-9567-5940b950902a",
   "metadata": {},
   "outputs": [
    {
     "data": {
      "text/plain": [
       "'Toulouse a une population de 400000, avec une densité de 33.44559977'"
      ]
     },
     "execution_count": 66,
     "metadata": {},
     "output_type": "execute_result"
    }
   ],
   "source": [
    "# python 1,2 old school\n",
    "\"%s a une population de %s, avec une densité de %s\" % (ville, pop, densite)"
   ]
  },
  {
   "cell_type": "code",
   "execution_count": null,
   "id": "c3f733c8-1cd1-49ad-a616-892edae69efb",
   "metadata": {},
   "outputs": [],
   "source": []
  }
 ],
 "metadata": {
  "kernelspec": {
   "display_name": "Python 3 (ipykernel)",
   "language": "python",
   "name": "python3"
  },
  "language_info": {
   "codemirror_mode": {
    "name": "ipython",
    "version": 3
   },
   "file_extension": ".py",
   "mimetype": "text/x-python",
   "name": "python",
   "nbconvert_exporter": "python",
   "pygments_lexer": "ipython3",
   "version": "3.9.12"
  }
 },
 "nbformat": 4,
 "nbformat_minor": 5
}
